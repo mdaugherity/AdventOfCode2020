{
  "nbformat": 4,
  "nbformat_minor": 0,
  "metadata": {
    "colab": {
      "name": "AoC2020_2.ipynb",
      "provenance": [],
      "collapsed_sections": [],
      "authorship_tag": "ABX9TyMbCvjDSEmVXYDal8AZzVUN",
      "include_colab_link": true
    },
    "kernelspec": {
      "name": "python3",
      "display_name": "Python 3"
    }
  },
  "cells": [
    {
      "cell_type": "markdown",
      "metadata": {
        "id": "view-in-github",
        "colab_type": "text"
      },
      "source": [
        "<a href=\"https://colab.research.google.com/github/mdaugherity/AdventOfCode2020/blob/main/AoC2020_2.ipynb\" target=\"_parent\"><img src=\"https://colab.research.google.com/assets/colab-badge.svg\" alt=\"Open In Colab\"/></a>"
      ]
    },
    {
      "cell_type": "markdown",
      "metadata": {
        "id": "T42QqYERKjti"
      },
      "source": [
        "# DAY 2"
      ]
    },
    {
      "cell_type": "code",
      "metadata": {
        "id": "Oc0GZx6b7-Th"
      },
      "source": [
        "import numpy as np\r\n",
        "import pandas as pd"
      ],
      "execution_count": 1,
      "outputs": []
    },
    {
      "cell_type": "markdown",
      "metadata": {
        "id": "hHtprMzVEuwG"
      },
      "source": [
        "## Load and check data file\r\n",
        "I pasted the data into excel to save as a csv, uploaded to github repo for easy access without needed to authenticate.  There certainly is a more direct way, but this was expedient...  "
      ]
    },
    {
      "cell_type": "code",
      "metadata": {
        "id": "rxal7Cct8EPG"
      },
      "source": [
        "df = pd.read_csv('https://raw.githubusercontent.com/mdaugherity/AdventOfCode2020/main/day2input.csv', header=None)"
      ],
      "execution_count": 2,
      "outputs": []
    },
    {
      "cell_type": "code",
      "metadata": {
        "colab": {
          "base_uri": "https://localhost:8080/",
          "height": 206
        },
        "id": "nLfbFKVXKdCU",
        "outputId": "5f5ff525-3d2d-4ecf-b6d2-e865c74ff832"
      },
      "source": [
        "df.head()"
      ],
      "execution_count": 3,
      "outputs": [
        {
          "output_type": "execute_result",
          "data": {
            "text/html": [
              "<div>\n",
              "<style scoped>\n",
              "    .dataframe tbody tr th:only-of-type {\n",
              "        vertical-align: middle;\n",
              "    }\n",
              "\n",
              "    .dataframe tbody tr th {\n",
              "        vertical-align: top;\n",
              "    }\n",
              "\n",
              "    .dataframe thead th {\n",
              "        text-align: right;\n",
              "    }\n",
              "</style>\n",
              "<table border=\"1\" class=\"dataframe\">\n",
              "  <thead>\n",
              "    <tr style=\"text-align: right;\">\n",
              "      <th></th>\n",
              "      <th>0</th>\n",
              "    </tr>\n",
              "  </thead>\n",
              "  <tbody>\n",
              "    <tr>\n",
              "      <th>0</th>\n",
              "      <td>2-5 l: fllxf</td>\n",
              "    </tr>\n",
              "    <tr>\n",
              "      <th>1</th>\n",
              "      <td>4-5 r: rrrjmrrrrrrh</td>\n",
              "    </tr>\n",
              "    <tr>\n",
              "      <th>2</th>\n",
              "      <td>1-4 k: kkksk</td>\n",
              "    </tr>\n",
              "    <tr>\n",
              "      <th>3</th>\n",
              "      <td>7-8 k: tknsqknzkckrwkjkk</td>\n",
              "    </tr>\n",
              "    <tr>\n",
              "      <th>4</th>\n",
              "      <td>2-3 p: mpbstpxmsxmpnhbwlb</td>\n",
              "    </tr>\n",
              "  </tbody>\n",
              "</table>\n",
              "</div>"
            ],
            "text/plain": [
              "                           0\n",
              "0               2-5 l: fllxf\n",
              "1        4-5 r: rrrjmrrrrrrh\n",
              "2               1-4 k: kkksk\n",
              "3   7-8 k: tknsqknzkckrwkjkk\n",
              "4  2-3 p: mpbstpxmsxmpnhbwlb"
            ]
          },
          "metadata": {
            "tags": []
          },
          "execution_count": 3
        }
      ]
    },
    {
      "cell_type": "code",
      "metadata": {
        "colab": {
          "base_uri": "https://localhost:8080/",
          "height": 206
        },
        "id": "HARmTdGQKhNM",
        "outputId": "e777192c-4403-4db3-eeac-3e228be23dd9"
      },
      "source": [
        "df.tail()"
      ],
      "execution_count": 4,
      "outputs": [
        {
          "output_type": "execute_result",
          "data": {
            "text/html": [
              "<div>\n",
              "<style scoped>\n",
              "    .dataframe tbody tr th:only-of-type {\n",
              "        vertical-align: middle;\n",
              "    }\n",
              "\n",
              "    .dataframe tbody tr th {\n",
              "        vertical-align: top;\n",
              "    }\n",
              "\n",
              "    .dataframe thead th {\n",
              "        text-align: right;\n",
              "    }\n",
              "</style>\n",
              "<table border=\"1\" class=\"dataframe\">\n",
              "  <thead>\n",
              "    <tr style=\"text-align: right;\">\n",
              "      <th></th>\n",
              "      <th>0</th>\n",
              "    </tr>\n",
              "  </thead>\n",
              "  <tbody>\n",
              "    <tr>\n",
              "      <th>995</th>\n",
              "      <td>8-9 k: kkxkkkdkkkzkdp</td>\n",
              "    </tr>\n",
              "    <tr>\n",
              "      <th>996</th>\n",
              "      <td>1-8 b: bbxbdbnbjcbbb</td>\n",
              "    </tr>\n",
              "    <tr>\n",
              "      <th>997</th>\n",
              "      <td>15-19 q: qqqqqqvqqqqqqsqqqqq</td>\n",
              "    </tr>\n",
              "    <tr>\n",
              "      <th>998</th>\n",
              "      <td>3-4 t: tttt</td>\n",
              "    </tr>\n",
              "    <tr>\n",
              "      <th>999</th>\n",
              "      <td>2-5 j: bjjjj</td>\n",
              "    </tr>\n",
              "  </tbody>\n",
              "</table>\n",
              "</div>"
            ],
            "text/plain": [
              "                                0\n",
              "995         8-9 k: kkxkkkdkkkzkdp\n",
              "996          1-8 b: bbxbdbnbjcbbb\n",
              "997  15-19 q: qqqqqqvqqqqqqsqqqqq\n",
              "998                   3-4 t: tttt\n",
              "999                  2-5 j: bjjjj"
            ]
          },
          "metadata": {
            "tags": []
          },
          "execution_count": 4
        }
      ]
    },
    {
      "cell_type": "markdown",
      "metadata": {
        "id": "pMMWgVJOKrRx"
      },
      "source": [
        "# PART 1"
      ]
    },
    {
      "cell_type": "code",
      "metadata": {
        "colab": {
          "base_uri": "https://localhost:8080/"
        },
        "id": "3Uf8fgpbKtHu",
        "outputId": "09541155-e29e-4387-ed01-67abc6cece81"
      },
      "source": [
        "# example input:  \r\n",
        "#2-5 l: fllxf\r\n",
        "# since the min and max numbers can be two digits, will need to split string\r\n",
        "x = df[0]\r\n",
        "right = 0\r\n",
        "for i in range(len(x)):\r\n",
        "  s = x[i]\r\n",
        "  tokens = s.split()   # first split on whitespace\r\n",
        "  s1 = tokens[0].split('-')  # token 0: 'min-max'\r\n",
        "  min = int(s1[0])\r\n",
        "  max = int(s1[1])\r\n",
        "  let = tokens[1][0] # token 1: 'c:' \r\n",
        "  c = tokens[2].count(let)  # token 2: password\r\n",
        "  if c>=min and c<=max:\r\n",
        "    right+=1\r\n",
        "print(right)"
      ],
      "execution_count": 43,
      "outputs": [
        {
          "output_type": "stream",
          "text": [
            "660\n"
          ],
          "name": "stdout"
        }
      ]
    },
    {
      "cell_type": "markdown",
      "metadata": {
        "id": "J172llLabZNE"
      },
      "source": [
        "# PART 2\r\n",
        "\r\n",
        "Each policy actually describes two positions in the password, where 1 means the first character, 2 means the second character, and so on. (Be careful; Toboggan Corporate Policies have no concept of \"index zero\"!) Exactly one of these positions must contain the given letter. Other occurrences of the letter are irrelevant for the purposes of policy enforcement.\r\n",
        "\r\n",
        "Given the same example list from above:\r\n",
        "\r\n",
        "    1-3 a: abcde is valid: position 1 contains a and position 3 does not.\r\n",
        "    1-3 b: cdefg is invalid: neither position 1 nor position 3 contains b.\r\n",
        "    2-9 c: ccccccccc is invalid: both position 2 and position 9 contain c.\r\n"
      ]
    },
    {
      "cell_type": "code",
      "metadata": {
        "colab": {
          "base_uri": "https://localhost:8080/"
        },
        "id": "nNJFe0RgbzZD",
        "outputId": "81637800-9eb0-4472-8e57-1ce182dbaee5"
      },
      "source": [
        "# test case\r\n",
        "x = df[0]\r\n",
        "right = 0\r\n",
        "for i in range(len(x)):\r\n",
        "#for i in range(3):\r\n",
        "  s = x[i]\r\n",
        "  tokens = s.split()   # first split on whitespace\r\n",
        "  s1 = tokens[0].split('-')  # token 0: 'min-max'\r\n",
        "  p1 = int(s1[0])\r\n",
        "  p2 = int(s1[1])\r\n",
        "  let = tokens[1][0] # token 1: 'c:' \r\n",
        "  s2 = tokens[2]  # token 2: password \r\n",
        "  match = 0\r\n",
        "  if s2[p1-1]==let:\r\n",
        "    match+=1\r\n",
        "  if s2[p2-1]==let:\r\n",
        "    match+=1\r\n",
        "  #print(s, p1,p2,let,match)\r\n",
        "  if match==1:\r\n",
        "    right+=1\r\n",
        "print(right)"
      ],
      "execution_count": 52,
      "outputs": [
        {
          "output_type": "stream",
          "text": [
            "530\n"
          ],
          "name": "stdout"
        }
      ]
    }
  ]
}